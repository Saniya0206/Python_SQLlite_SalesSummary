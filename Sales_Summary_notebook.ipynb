{
 "cells": [
  {
   "cell_type": "markdown",
   "id": "6be1820f",
   "metadata": {},
   "source": [
    "\n",
    "# Task 7 – Basic Sales Summary from SQLite using Python\n",
    "\n",
    "**Objective:**  \n",
    "Use SQL inside Python to pull simple sales info (total quantity & total revenue per product) and display it via prints + a simple bar chart.\n",
    "\n",
    "---\n"
   ]
  },
  {
   "cell_type": "code",
   "execution_count": null,
   "id": "3394eef6",
   "metadata": {},
   "outputs": [],
   "source": [
    "\n",
    "import sqlite3\n",
    "import pandas as pd\n",
    "import matplotlib.pyplot as plt\n"
   ]
  },
  {
   "cell_type": "code",
   "execution_count": null,
   "id": "ba8b3763",
   "metadata": {},
   "outputs": [],
   "source": [
    "\n",
    "# Connect to (or create) the SQLite database\n",
    "conn = sqlite3.connect(\"sales_data.db\")\n",
    "cur = conn.cursor()\n",
    "\n",
    "# Create the sales table if it does not exist\n",
    "cur.execute(\"\"\"\n",
    "CREATE TABLE IF NOT EXISTS sales (\n",
    "    id INTEGER PRIMARY KEY AUTOINCREMENT,\n",
    "    product TEXT NOT NULL,\n",
    "    quantity INTEGER NOT NULL,\n",
    "    price REAL NOT NULL,\n",
    "    sale_date TEXT NOT NULL\n",
    ");\n",
    "\"\"\")\n",
    "conn.commit()\n",
    "print(\"Database connected and table ensured.\")\n"
   ]
  },
  {
   "cell_type": "code",
   "execution_count": null,
   "id": "65286b03",
   "metadata": {},
   "outputs": [],
   "source": [
    "\n",
    "# Insert sample rows only if table is empty\n",
    "cur.execute(\"SELECT COUNT(*) FROM sales;\")\n",
    "if cur.fetchone()[0] == 0:\n",
    "    sample_rows = [\n",
    "        (\"Shampoo\", 10, 120.0, \"2025-08-01\"),\n",
    "        (\"Shampoo\", 7, 120.0, \"2025-08-02\"),\n",
    "        (\"Conditioner\", 5, 150.0, \"2025-08-02\"),\n",
    "        (\"Conditioner\", 9, 150.0, \"2025-08-03\"),\n",
    "        (\"FaceWash\", 12, 90.0, \"2025-08-01\"),\n",
    "        (\"FaceWash\", 4, 90.0, \"2025-08-03\"),\n",
    "        (\"Serum\", 6, 300.0, \"2025-08-02\"),\n",
    "        (\"Serum\", 3, 300.0, \"2025-08-03\"),\n",
    "        (\"HairOil\", 8, 200.0, \"2025-08-01\"),\n",
    "        (\"HairOil\", 5, 200.0, \"2025-08-03\")\n",
    "    ]\n",
    "    cur.executemany(\n",
    "        \"INSERT INTO sales (product, quantity, price, sale_date) VALUES (?, ?, ?, ?);\",\n",
    "        sample_rows\n",
    "    )\n",
    "    conn.commit()\n",
    "    print(\"Sample data inserted.\")\n",
    "else:\n",
    "    print(\"Table already has data. Skipping insert.\")\n"
   ]
  },
  {
   "cell_type": "code",
   "execution_count": null,
   "id": "86cb07be",
   "metadata": {},
   "outputs": [],
   "source": [
    "\n",
    "# SQL to get total quantity and revenue per product\n",
    "query = \"\"\"\n",
    "SELECT \n",
    "    product,\n",
    "    SUM(quantity) AS total_qty,\n",
    "    ROUND(SUM(quantity * price), 2) AS revenue\n",
    "FROM sales\n",
    "GROUP BY product\n",
    "ORDER BY revenue DESC;\n",
    "\"\"\"\n",
    "\n",
    "# Load query results into Pandas DataFrame\n",
    "df = pd.read_sql_query(query, conn)\n",
    "df\n"
   ]
  },
  {
   "cell_type": "code",
   "execution_count": null,
   "id": "50c17dc0",
   "metadata": {},
   "outputs": [],
   "source": [
    "\n",
    "# Save the summary as CSV\n",
    "df.to_csv(\"sales_summary_by_product.csv\", index=False)\n",
    "print(\"Summary saved to sales_summary_by_product.csv\")\n"
   ]
  },
  {
   "cell_type": "code",
   "execution_count": null,
   "id": "a86e0ec7",
   "metadata": {},
   "outputs": [],
   "source": [
    "\n",
    "plt.figure()\n",
    "plt.bar(df[\"product\"], df[\"total_qty\"])\n",
    "plt.title(\"Quantity by Product\")\n",
    "plt.xlabel(\"Product\")\n",
    "plt.ylabel(\"Total Quantity\")\n",
    "plt.xticks(rotation=45, ha=\"right\")\n",
    "plt.tight_layout()\n",
    "plt.savefig(\"quantity_by_product.png\")\n",
    "plt.show()\n"
   ]
  },
  {
   "cell_type": "code",
   "execution_count": null,
   "id": "3d0b86e4",
   "metadata": {},
   "outputs": [],
   "source": [
    "\n",
    "plt.figure()\n",
    "plt.bar(df[\"product\"], df[\"revenue\"])\n",
    "plt.title(\"Revenue by Product\")\n",
    "plt.xlabel(\"Product\")\n",
    "plt.ylabel(\"Revenue\")\n",
    "plt.xticks(rotation=45, ha=\"right\")\n",
    "plt.tight_layout()\n",
    "plt.savefig(\"revenue_by_product.png\")\n",
    "plt.show()\n"
   ]
  },
  {
   "cell_type": "markdown",
   "id": "43209138",
   "metadata": {},
   "source": [
    "\n",
    "## Interview Q&A\n",
    "\n",
    "**How did you connect Python to a database?**  \n",
    "Using `sqlite3.connect(\"sales_data.db\")` to open a connection.\n",
    "\n",
    "**What SQL query did you run? What does GROUP BY do?**  \n",
    "We aggregated per `product` using `SUM(quantity)` and `SUM(quantity*price)`.  \n",
    "`GROUP BY product` groups rows having the same product so aggregates work per product.\n",
    "\n",
    "**How did you calculate revenue?**  \n",
    "`SUM(quantity * price)` directly in SQL.\n",
    "\n",
    "**How did you visualize the result?**  \n",
    "Loaded the SQL result into a Pandas DataFrame and used Matplotlib `bar` charts.\n",
    "\n",
    "**What does pandas do in your code?**  \n",
    "It reads SQL results into a DataFrame (`pd.read_sql_query`) which is easy to print, save to CSV, and plot.\n",
    "\n",
    "**Benefit of using SQL inside Python?**  \n",
    "We can keep data in SQLite, run fast aggregations in SQL, and still use Python’s plotting and file I/O to automate analysis and reporting.\n"
   ]
  }
 ],
 "metadata": {},
 "nbformat": 4,
 "nbformat_minor": 5
}
